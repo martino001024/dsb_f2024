{
 "cells": [
  {
   "cell_type": "markdown",
   "metadata": {},
   "source": [
    "# Assignment 6\n"
   ]
  },
  {
   "cell_type": "code",
   "execution_count": 1,
   "metadata": {
    "id": "4NigFWrcvkfz"
   },
   "outputs": [],
   "source": [
    "#Libraries\n",
    "import pandas as pd\n",
    "import numpy as np\n",
    "import seaborn as sns\n",
    "import matplotlib.pyplot as plt\n",
    "\n",
    "from sklearn.preprocessing import OneHotEncoder, StandardScaler\n",
    "from sklearn.model_selection import train_test_split\n",
    "\n",
    "from sklearn.linear_model import LinearRegression\n",
    "from sklearn.metrics import mean_absolute_error, mean_squared_error\n",
    "import warnings\n",
    "warnings.filterwarnings('ignore')\n",
    "pd.set_option(\"display.max_columns\", 101)"
   ]
  },
  {
   "cell_type": "markdown",
   "metadata": {
    "id": "ZlKNC5CVW-2u"
   },
   "source": [
    "### Data Description"
   ]
  },
  {
   "cell_type": "markdown",
   "metadata": {
    "id": "8KaPON2AXFij"
   },
   "source": [
    "Column | Description\n",
    ":---|:---\n",
    "`id` | Record index\n",
    "`timestamp` | Datetime (YYYY:MM:DD HH:MM:SS) when data was collected\n",
    "`country` | Current country of employment\n",
    "`employment_status` | Whether a candidate is Full time, Part time, Independent or freelancer or company owner\n",
    "`job_title` | Current job title of the candidate\n",
    "`job_years` | Total job experience (in Years)\n",
    "`is_manager` | Whether the candidate holds a managerial position or not (Yes or No)\n",
    "`hours_per_week` | No. of hours per day committed to the current job\n",
    "`telecommute_days_per_week` | No. of telecommuting days per week (working from home)\n",
    "`education` | The highest degree in education the candidate has received\n",
    "`is_education_computer_related` | Is the education related to the field of computer science (Yes or No)\n",
    "`certifications` | Does the candidate have any relevant certifications (Yes or No)\n",
    "`salary` | Monthly Salary (in US $$)"
   ]
  },
  {
   "cell_type": "code",
   "execution_count": 2,
   "metadata": {
    "id": "8cdaWna0UZQg"
   },
   "outputs": [],
   "source": [
    "# Dataset is already loaded below\n",
    "data = pd.read_csv(\"employee.csv\")"
   ]
  },
  {
   "cell_type": "code",
   "execution_count": 3,
   "metadata": {
    "colab": {
     "base_uri": "https://localhost:8080/"
    },
    "id": "BWbdq93gXkXJ",
    "outputId": "92d8628d-0e45-4dd7-b1b0-dc0354c6ee6c"
   },
   "outputs": [
    {
     "data": {
      "text/plain": [
       "(4277, 13)"
      ]
     },
     "execution_count": 3,
     "metadata": {},
     "output_type": "execute_result"
    }
   ],
   "source": [
    "# Dimensions of training data\n",
    "data.shape"
   ]
  },
  {
   "cell_type": "code",
   "execution_count": 4,
   "metadata": {
    "colab": {
     "base_uri": "https://localhost:8080/",
     "height": 206
    },
    "id": "K6vQBflFXoFV",
    "outputId": "ccdeb8cb-5262-4771-f7fe-e98c5df4d2ab"
   },
   "outputs": [
    {
     "data": {
      "text/html": [
       "<div>\n",
       "<style scoped>\n",
       "    .dataframe tbody tr th:only-of-type {\n",
       "        vertical-align: middle;\n",
       "    }\n",
       "\n",
       "    .dataframe tbody tr th {\n",
       "        vertical-align: top;\n",
       "    }\n",
       "\n",
       "    .dataframe thead th {\n",
       "        text-align: right;\n",
       "    }\n",
       "</style>\n",
       "<table border=\"1\" class=\"dataframe\">\n",
       "  <thead>\n",
       "    <tr style=\"text-align: right;\">\n",
       "      <th></th>\n",
       "      <th>id</th>\n",
       "      <th>timestamp</th>\n",
       "      <th>country</th>\n",
       "      <th>employment_status</th>\n",
       "      <th>job_title</th>\n",
       "      <th>job_years</th>\n",
       "      <th>is_manager</th>\n",
       "      <th>hours_per_week</th>\n",
       "      <th>telecommute_days_per_week</th>\n",
       "      <th>education</th>\n",
       "      <th>is_education_computer_related</th>\n",
       "      <th>certifications</th>\n",
       "      <th>salary</th>\n",
       "    </tr>\n",
       "  </thead>\n",
       "  <tbody>\n",
       "    <tr>\n",
       "      <th>0</th>\n",
       "      <td>1</td>\n",
       "      <td>12/11/2018 10:52:26</td>\n",
       "      <td>Slovenia</td>\n",
       "      <td>Full time</td>\n",
       "      <td>Developer</td>\n",
       "      <td>4.78393</td>\n",
       "      <td>Yes</td>\n",
       "      <td>40.0</td>\n",
       "      <td>0.0</td>\n",
       "      <td>Bachelors (4 years)</td>\n",
       "      <td>Yes</td>\n",
       "      <td>No</td>\n",
       "      <td>7187.743094</td>\n",
       "    </tr>\n",
       "    <tr>\n",
       "      <th>1</th>\n",
       "      <td>2</td>\n",
       "      <td>1/5/2017 16:57:50</td>\n",
       "      <td>United States</td>\n",
       "      <td>Full time</td>\n",
       "      <td>DBA</td>\n",
       "      <td>5.00000</td>\n",
       "      <td>No</td>\n",
       "      <td>40.0</td>\n",
       "      <td>5.0</td>\n",
       "      <td>Bachelors (4 years)</td>\n",
       "      <td>Yes</td>\n",
       "      <td>No</td>\n",
       "      <td>10000.000000</td>\n",
       "    </tr>\n",
       "    <tr>\n",
       "      <th>2</th>\n",
       "      <td>3</td>\n",
       "      <td>12/18/2017 8:13:15</td>\n",
       "      <td>Sweden</td>\n",
       "      <td>Full time</td>\n",
       "      <td>DBA</td>\n",
       "      <td>1.00000</td>\n",
       "      <td>No</td>\n",
       "      <td>40.0</td>\n",
       "      <td>0.0</td>\n",
       "      <td>Masters</td>\n",
       "      <td>Yes</td>\n",
       "      <td>Yes</td>\n",
       "      <td>7000.000000</td>\n",
       "    </tr>\n",
       "    <tr>\n",
       "      <th>3</th>\n",
       "      <td>4</td>\n",
       "      <td>12/27/2018 4:56:52</td>\n",
       "      <td>United States</td>\n",
       "      <td>Full time</td>\n",
       "      <td>DBA</td>\n",
       "      <td>1.00000</td>\n",
       "      <td>No</td>\n",
       "      <td>40.0</td>\n",
       "      <td>2.0</td>\n",
       "      <td>Bachelors (4 years)</td>\n",
       "      <td>No</td>\n",
       "      <td>No</td>\n",
       "      <td>8333.000000</td>\n",
       "    </tr>\n",
       "    <tr>\n",
       "      <th>4</th>\n",
       "      <td>5</td>\n",
       "      <td>12/11/2018 14:07:58</td>\n",
       "      <td>United States</td>\n",
       "      <td>Full time</td>\n",
       "      <td>Developer</td>\n",
       "      <td>3.00000</td>\n",
       "      <td>No</td>\n",
       "      <td>40.0</td>\n",
       "      <td>2.0</td>\n",
       "      <td>Masters</td>\n",
       "      <td>Yes</td>\n",
       "      <td>Yes</td>\n",
       "      <td>7137.000000</td>\n",
       "    </tr>\n",
       "  </tbody>\n",
       "</table>\n",
       "</div>"
      ],
      "text/plain": [
       "   id            timestamp        country employment_status  job_title  \\\n",
       "0   1  12/11/2018 10:52:26       Slovenia         Full time  Developer   \n",
       "1   2    1/5/2017 16:57:50  United States         Full time        DBA   \n",
       "2   3   12/18/2017 8:13:15         Sweden         Full time        DBA   \n",
       "3   4   12/27/2018 4:56:52  United States         Full time        DBA   \n",
       "4   5  12/11/2018 14:07:58  United States         Full time  Developer   \n",
       "\n",
       "   job_years is_manager  hours_per_week  telecommute_days_per_week  \\\n",
       "0    4.78393        Yes            40.0                        0.0   \n",
       "1    5.00000         No            40.0                        5.0   \n",
       "2    1.00000         No            40.0                        0.0   \n",
       "3    1.00000         No            40.0                        2.0   \n",
       "4    3.00000         No            40.0                        2.0   \n",
       "\n",
       "             education is_education_computer_related certifications  \\\n",
       "0  Bachelors (4 years)                           Yes             No   \n",
       "1  Bachelors (4 years)                           Yes             No   \n",
       "2              Masters                           Yes            Yes   \n",
       "3  Bachelors (4 years)                            No             No   \n",
       "4              Masters                           Yes            Yes   \n",
       "\n",
       "         salary  \n",
       "0   7187.743094  \n",
       "1  10000.000000  \n",
       "2   7000.000000  \n",
       "3   8333.000000  \n",
       "4   7137.000000  "
      ]
     },
     "execution_count": 4,
     "metadata": {},
     "output_type": "execute_result"
    }
   ],
   "source": [
    "# Print first few rows of data\n",
    "data.head()"
   ]
  },
  {
   "cell_type": "code",
   "execution_count": 5,
   "metadata": {
    "id": "YL6xVdbbXqfn"
   },
   "outputs": [],
   "source": [
    "# drop id, timestamp and country columns\n",
    "data = data.drop(columns=['id', 'timestamp','country'])"
   ]
  },
  {
   "cell_type": "code",
   "execution_count": 6,
   "metadata": {
    "colab": {
     "base_uri": "https://localhost:8080/"
    },
    "id": "Lv9DHPqAXu8r",
    "outputId": "ff241b52-4150-4a22-a21e-87ed08b575d2"
   },
   "outputs": [
    {
     "data": {
      "text/plain": [
       "Index(['employment_status', 'job_title', 'job_years', 'is_manager',\n",
       "       'hours_per_week', 'telecommute_days_per_week', 'education',\n",
       "       'is_education_computer_related', 'certifications', 'salary'],\n",
       "      dtype='object')"
      ]
     },
     "execution_count": 6,
     "metadata": {},
     "output_type": "execute_result"
    }
   ],
   "source": [
    "# Explore columns\n",
    "data.columns"
   ]
  },
  {
   "cell_type": "code",
   "execution_count": 7,
   "metadata": {},
   "outputs": [
    {
     "data": {
      "text/plain": [
       "employment_status                 0\n",
       "job_title                         0\n",
       "job_years                         0\n",
       "is_manager                        0\n",
       "hours_per_week                   17\n",
       "telecommute_days_per_week        11\n",
       "education                         0\n",
       "is_education_computer_related    16\n",
       "certifications                    0\n",
       "salary                            0\n",
       "dtype: int64"
      ]
     },
     "execution_count": 7,
     "metadata": {},
     "output_type": "execute_result"
    }
   ],
   "source": [
    "# data.info()\n",
    "data.isna().sum()"
   ]
  },
  {
   "cell_type": "code",
   "execution_count": 8,
   "metadata": {
    "id": "y1gJSNOwXx7W"
   },
   "outputs": [],
   "source": [
    "# replace NANs in hours_per_week with median value of the column\n",
    "data.loc[data['hours_per_week'].isna(), 'hours_per_week'] = data['hours_per_week'].median()\n",
    "data.loc[data['telecommute_days_per_week'].isna(), 'telecommute_days_per_week'] = data['telecommute_days_per_week'].median()"
   ]
  },
  {
   "cell_type": "code",
   "execution_count": 9,
   "metadata": {
    "id": "uG7bBueOYhUn"
   },
   "outputs": [],
   "source": [
    "#Handling null values in categorical columns\n",
    "data = data.dropna()"
   ]
  },
  {
   "cell_type": "code",
   "execution_count": 10,
   "metadata": {
    "colab": {
     "base_uri": "https://localhost:8080/"
    },
    "id": "MfMmarOqYlSn",
    "outputId": "9c54d328-4d41-4463-bb9f-ab6ec47665de"
   },
   "outputs": [
    {
     "name": "stdout",
     "output_type": "stream",
     "text": [
      "<class 'pandas.core.frame.DataFrame'>\n",
      "Index: 4261 entries, 0 to 4276\n",
      "Data columns (total 10 columns):\n",
      " #   Column                         Non-Null Count  Dtype  \n",
      "---  ------                         --------------  -----  \n",
      " 0   employment_status              4261 non-null   object \n",
      " 1   job_title                      4261 non-null   object \n",
      " 2   job_years                      4261 non-null   float64\n",
      " 3   is_manager                     4261 non-null   object \n",
      " 4   hours_per_week                 4261 non-null   float64\n",
      " 5   telecommute_days_per_week      4261 non-null   float64\n",
      " 6   education                      4261 non-null   object \n",
      " 7   is_education_computer_related  4261 non-null   object \n",
      " 8   certifications                 4261 non-null   object \n",
      " 9   salary                         4261 non-null   float64\n",
      "dtypes: float64(4), object(6)\n",
      "memory usage: 366.2+ KB\n"
     ]
    }
   ],
   "source": [
    "data.info()"
   ]
  },
  {
   "cell_type": "markdown",
   "metadata": {},
   "source": [
    "### Data Visualization"
   ]
  },
  {
   "cell_type": "code",
   "execution_count": 11,
   "metadata": {
    "scrolled": true
   },
   "outputs": [
    {
     "data": {
      "image/png": "[encoded data removed]",
      "text/plain": [
       "<Figure size 500x500 with 3 Axes>"
      ]
     },
     "metadata": {},
     "output_type": "display_data"
    },
    {
     "data": {
      "image/png": "[encoded data removed]",
      "text/plain": [
       "<Figure size 500x500 with 3 Axes>"
      ]
     },
     "metadata": {},
     "output_type": "display_data"
    }
   ],
   "source": [
    "cols = [\"job_years\", \"hours_per_week\"]\n",
    "\n",
    "for c in cols:\n",
    "    sns.jointplot(x=c, y=\"salary\", data=data, kind=\"reg\", height=5)\n",
    "\n",
    "plt.show()"
   ]
  },
  {
   "cell_type": "code",
   "execution_count": 12,
   "metadata": {},
   "outputs": [
    {
     "data": {
      "image/png": "[encoded data removed]",
      "text/plain": [
       "<Figure size 640x480 with 1 Axes>"
      ]
     },
     "metadata": {},
     "output_type": "display_data"
    },
    {
     "data": {
      "image/png": "[encoded data removed]",
      "text/plain": [
       "<Figure size 640x480 with 1 Axes>"
      ]
     },
     "metadata": {},
     "output_type": "display_data"
    }
   ],
   "source": [
    "cols = [\"job_years\", \"hours_per_week\"]\n",
    "for c in cols:\n",
    "    sns.distplot(data[c])\n",
    "    plt.grid()\n",
    "    plt.show()"
   ]
  },
  {
   "cell_type": "code",
   "execution_count": 13,
   "metadata": {},
   "outputs": [
    {
     "data": {
      "image/png": "[encoded data removed]",
      "text/plain": [
       "<Figure size 640x480 with 1 Axes>"
      ]
     },
     "metadata": {},
     "output_type": "display_data"
    },
    {
     "name": "stdout",
     "output_type": "stream",
     "text": [
      "max:  10625.0\n",
      "min:  3622.0\n"
     ]
    }
   ],
   "source": [
    "sns.distplot(data[\"salary\"])\n",
    "plt.grid()\n",
    "plt.title(\"Distribution of Target Variable in Data\")\n",
    "plt.show()\n",
    "print(\"max: \", np.max(data['salary']))\n",
    "print(\"min: \", np.min(data['salary']))"
   ]
  },
  {
   "cell_type": "markdown",
   "metadata": {
    "id": "zLlD_XEzf4wN"
   },
   "source": [
    "## Feature Encoding and Normalization\n",
    "\n",
    "Before training the model, we should perform one-hot encoding for all categorical/discrete variables, normalize continuous variables and then combine all data to form the training set."
   ]
  },
  {
   "cell_type": "code",
   "execution_count": 14,
   "metadata": {
    "colab": {
     "base_uri": "https://localhost:8080/",
     "height": 206
    },
    "id": "ubPm1HOaZfJu",
    "outputId": "92c697e6-b7e2-4635-d0b7-c58bbd1dc3a8"
   },
   "outputs": [
    {
     "data": {
      "text/html": [
       "<div>\n",
       "<style scoped>\n",
       "    .dataframe tbody tr th:only-of-type {\n",
       "        vertical-align: middle;\n",
       "    }\n",
       "\n",
       "    .dataframe tbody tr th {\n",
       "        vertical-align: top;\n",
       "    }\n",
       "\n",
       "    .dataframe thead th {\n",
       "        text-align: right;\n",
       "    }\n",
       "</style>\n",
       "<table border=\"1\" class=\"dataframe\">\n",
       "  <thead>\n",
       "    <tr style=\"text-align: right;\">\n",
       "      <th></th>\n",
       "      <th>employment_status</th>\n",
       "      <th>job_title</th>\n",
       "      <th>job_years</th>\n",
       "      <th>is_manager</th>\n",
       "      <th>hours_per_week</th>\n",
       "      <th>telecommute_days_per_week</th>\n",
       "      <th>education</th>\n",
       "      <th>is_education_computer_related</th>\n",
       "      <th>certifications</th>\n",
       "      <th>salary</th>\n",
       "    </tr>\n",
       "  </thead>\n",
       "  <tbody>\n",
       "    <tr>\n",
       "      <th>0</th>\n",
       "      <td>Full time</td>\n",
       "      <td>Developer</td>\n",
       "      <td>4.78393</td>\n",
       "      <td>Yes</td>\n",
       "      <td>40.0</td>\n",
       "      <td>0.0</td>\n",
       "      <td>Bachelors (4 years)</td>\n",
       "      <td>Yes</td>\n",
       "      <td>No</td>\n",
       "      <td>7187.743094</td>\n",
       "    </tr>\n",
       "    <tr>\n",
       "      <th>1</th>\n",
       "      <td>Full time</td>\n",
       "      <td>DBA</td>\n",
       "      <td>5.00000</td>\n",
       "      <td>No</td>\n",
       "      <td>40.0</td>\n",
       "      <td>5.0</td>\n",
       "      <td>Bachelors (4 years)</td>\n",
       "      <td>Yes</td>\n",
       "      <td>No</td>\n",
       "      <td>10000.000000</td>\n",
       "    </tr>\n",
       "    <tr>\n",
       "      <th>2</th>\n",
       "      <td>Full time</td>\n",
       "      <td>DBA</td>\n",
       "      <td>1.00000</td>\n",
       "      <td>No</td>\n",
       "      <td>40.0</td>\n",
       "      <td>0.0</td>\n",
       "      <td>Masters</td>\n",
       "      <td>Yes</td>\n",
       "      <td>Yes</td>\n",
       "      <td>7000.000000</td>\n",
       "    </tr>\n",
       "    <tr>\n",
       "      <th>3</th>\n",
       "      <td>Full time</td>\n",
       "      <td>DBA</td>\n",
       "      <td>1.00000</td>\n",
       "      <td>No</td>\n",
       "      <td>40.0</td>\n",
       "      <td>2.0</td>\n",
       "      <td>Bachelors (4 years)</td>\n",
       "      <td>No</td>\n",
       "      <td>No</td>\n",
       "      <td>8333.000000</td>\n",
       "    </tr>\n",
       "    <tr>\n",
       "      <th>4</th>\n",
       "      <td>Full time</td>\n",
       "      <td>Developer</td>\n",
       "      <td>3.00000</td>\n",
       "      <td>No</td>\n",
       "      <td>40.0</td>\n",
       "      <td>2.0</td>\n",
       "      <td>Masters</td>\n",
       "      <td>Yes</td>\n",
       "      <td>Yes</td>\n",
       "      <td>7137.000000</td>\n",
       "    </tr>\n",
       "  </tbody>\n",
       "</table>\n",
       "</div>"
      ],
      "text/plain": [
       "  employment_status  job_title  job_years is_manager  hours_per_week  \\\n",
       "0         Full time  Developer    4.78393        Yes            40.0   \n",
       "1         Full time        DBA    5.00000         No            40.0   \n",
       "2         Full time        DBA    1.00000         No            40.0   \n",
       "3         Full time        DBA    1.00000         No            40.0   \n",
       "4         Full time  Developer    3.00000         No            40.0   \n",
       "\n",
       "   telecommute_days_per_week            education  \\\n",
       "0                        0.0  Bachelors (4 years)   \n",
       "1                        5.0  Bachelors (4 years)   \n",
       "2                        0.0              Masters   \n",
       "3                        2.0  Bachelors (4 years)   \n",
       "4                        2.0              Masters   \n",
       "\n",
       "  is_education_computer_related certifications        salary  \n",
       "0                           Yes             No   7187.743094  \n",
       "1                           Yes             No  10000.000000  \n",
       "2                           Yes            Yes   7000.000000  \n",
       "3                            No             No   8333.000000  \n",
       "4                           Yes            Yes   7137.000000  "
      ]
     },
     "execution_count": 14,
     "metadata": {},
     "output_type": "execute_result"
    }
   ],
   "source": [
    "# create another copy of dataset and append encoded features to it\n",
    "data_train = data.copy()\n",
    "data_train.head()"
   ]
  },
  {
   "cell_type": "code",
   "execution_count": 15,
   "metadata": {
    "colab": {
     "base_uri": "https://localhost:8080/"
    },
    "id": "zK-yV-sUf8Qt",
    "outputId": "a2b6850a-2e68-4bf5-9af4-497e7b27f380"
   },
   "outputs": [
    {
     "data": {
      "text/plain": [
       "['employment_status',\n",
       " 'job_title',\n",
       " 'education',\n",
       " 'is_education_computer_related']"
      ]
     },
     "execution_count": 15,
     "metadata": {},
     "output_type": "execute_result"
    }
   ],
   "source": [
    "# select categorical features\n",
    "cat_cols = [c for c in data_train.columns if data_train[c].dtype == 'object'\n",
    "            and c not in ['is_manager', 'certifications']]\n",
    "cat_data = data_train[cat_cols]\n",
    "cat_cols"
   ]
  },
  {
   "cell_type": "code",
   "execution_count": 16,
   "metadata": {
    "id": "r7eaP7PSgApc"
   },
   "outputs": [],
   "source": [
    "#Encoding binary variables\n",
    "binary_cols = ['is_manager', 'certifications']\n",
    "for c in binary_cols:\n",
    "    data_train[c] = data_train[c].replace(to_replace=['Yes'], value=1)\n",
    "    data_train[c] = data_train[c].replace(to_replace=['No'], value=0)"
   ]
  },
  {
   "cell_type": "code",
   "execution_count": 17,
   "metadata": {
    "colab": {
     "base_uri": "https://localhost:8080/"
    },
    "id": "YSa4SpUngEg_",
    "outputId": "fa98e8b4-3e03-4a90-d2cb-772941f74d3e"
   },
   "outputs": [
    {
     "data": {
      "text/plain": [
       "(4261, 25)"
      ]
     },
     "execution_count": 17,
     "metadata": {},
     "output_type": "execute_result"
    }
   ],
   "source": [
    "final_data = pd.get_dummies(data_train, columns=cat_cols, drop_first= True,dtype=int)\n",
    "final_data.shape"
   ]
  },
  {
   "cell_type": "code",
   "execution_count": 18,
   "metadata": {
    "colab": {
     "base_uri": "https://localhost:8080/"
    },
    "id": "9bqOF2TigICx",
    "outputId": "81f2e7a8-c5ce-4680-88d3-7bebe1fd8260"
   },
   "outputs": [
    {
     "data": {
      "text/plain": [
       "Index(['job_years', 'is_manager', 'hours_per_week',\n",
       "       'telecommute_days_per_week', 'certifications', 'salary',\n",
       "       'employment_status_Independent or freelancer or company owner',\n",
       "       'employment_status_Part time', 'job_title_Analytics consultant',\n",
       "       'job_title_Architect', 'job_title_DBA', 'job_title_Data Scientist',\n",
       "       'job_title_Developer', 'job_title_Engineer', 'job_title_Manager',\n",
       "       'job_title_Other', 'job_title_Principal database engineer',\n",
       "       'job_title_Sales', 'job_title_Sr Consultant ',\n",
       "       'education_Bachelors (4 years)', 'education_Doctorate/PhD',\n",
       "       'education_Masters', 'education_None (no degree completed)',\n",
       "       'is_education_computer_related_Unknown',\n",
       "       'is_education_computer_related_Yes'],\n",
       "      dtype='object')"
      ]
     },
     "execution_count": 18,
     "metadata": {},
     "output_type": "execute_result"
    }
   ],
   "source": [
    "final_data.columns"
   ]
  },
  {
   "cell_type": "code",
   "execution_count": 19,
   "metadata": {
    "colab": {
     "base_uri": "https://localhost:8080/",
     "height": 478
    },
    "id": "ITmxj0mQgKxz",
    "outputId": "a4f3d864-3876-444a-9b85-e7cb428a540d"
   },
   "outputs": [
    {
     "data": {
      "text/html": [
       "<div>\n",
       "<style scoped>\n",
       "    .dataframe tbody tr th:only-of-type {\n",
       "        vertical-align: middle;\n",
       "    }\n",
       "\n",
       "    .dataframe tbody tr th {\n",
       "        vertical-align: top;\n",
       "    }\n",
       "\n",
       "    .dataframe thead th {\n",
       "        text-align: right;\n",
       "    }\n",
       "</style>\n",
       "<table border=\"1\" class=\"dataframe\">\n",
       "  <thead>\n",
       "    <tr style=\"text-align: right;\">\n",
       "      <th></th>\n",
       "      <th>job_years</th>\n",
       "      <th>is_manager</th>\n",
       "      <th>hours_per_week</th>\n",
       "      <th>telecommute_days_per_week</th>\n",
       "      <th>certifications</th>\n",
       "      <th>salary</th>\n",
       "      <th>employment_status_Independent or freelancer or company owner</th>\n",
       "      <th>employment_status_Part time</th>\n",
       "      <th>job_title_Analytics consultant</th>\n",
       "      <th>job_title_Architect</th>\n",
       "      <th>job_title_DBA</th>\n",
       "      <th>job_title_Data Scientist</th>\n",
       "      <th>job_title_Developer</th>\n",
       "      <th>job_title_Engineer</th>\n",
       "      <th>job_title_Manager</th>\n",
       "      <th>job_title_Other</th>\n",
       "      <th>job_title_Principal database engineer</th>\n",
       "      <th>job_title_Sales</th>\n",
       "      <th>job_title_Sr Consultant</th>\n",
       "      <th>education_Bachelors (4 years)</th>\n",
       "      <th>education_Doctorate/PhD</th>\n",
       "      <th>education_Masters</th>\n",
       "      <th>education_None (no degree completed)</th>\n",
       "      <th>is_education_computer_related_Unknown</th>\n",
       "      <th>is_education_computer_related_Yes</th>\n",
       "    </tr>\n",
       "  </thead>\n",
       "  <tbody>\n",
       "    <tr>\n",
       "      <th>0</th>\n",
       "      <td>4.783930</td>\n",
       "      <td>1</td>\n",
       "      <td>40.0</td>\n",
       "      <td>0.0</td>\n",
       "      <td>0</td>\n",
       "      <td>7187.743094</td>\n",
       "      <td>0</td>\n",
       "      <td>0</td>\n",
       "      <td>0</td>\n",
       "      <td>0</td>\n",
       "      <td>0</td>\n",
       "      <td>0</td>\n",
       "      <td>1</td>\n",
       "      <td>0</td>\n",
       "      <td>0</td>\n",
       "      <td>0</td>\n",
       "      <td>0</td>\n",
       "      <td>0</td>\n",
       "      <td>0</td>\n",
       "      <td>1</td>\n",
       "      <td>0</td>\n",
       "      <td>0</td>\n",
       "      <td>0</td>\n",
       "      <td>0</td>\n",
       "      <td>1</td>\n",
       "    </tr>\n",
       "    <tr>\n",
       "      <th>1</th>\n",
       "      <td>5.000000</td>\n",
       "      <td>0</td>\n",
       "      <td>40.0</td>\n",
       "      <td>5.0</td>\n",
       "      <td>0</td>\n",
       "      <td>10000.000000</td>\n",
       "      <td>0</td>\n",
       "      <td>0</td>\n",
       "      <td>0</td>\n",
       "      <td>0</td>\n",
       "      <td>1</td>\n",
       "      <td>0</td>\n",
       "      <td>0</td>\n",
       "      <td>0</td>\n",
       "      <td>0</td>\n",
       "      <td>0</td>\n",
       "      <td>0</td>\n",
       "      <td>0</td>\n",
       "      <td>0</td>\n",
       "      <td>1</td>\n",
       "      <td>0</td>\n",
       "      <td>0</td>\n",
       "      <td>0</td>\n",
       "      <td>0</td>\n",
       "      <td>1</td>\n",
       "    </tr>\n",
       "    <tr>\n",
       "      <th>2</th>\n",
       "      <td>1.000000</td>\n",
       "      <td>0</td>\n",
       "      <td>40.0</td>\n",
       "      <td>0.0</td>\n",
       "      <td>1</td>\n",
       "      <td>7000.000000</td>\n",
       "      <td>0</td>\n",
       "      <td>0</td>\n",
       "      <td>0</td>\n",
       "      <td>0</td>\n",
       "      <td>1</td>\n",
       "      <td>0</td>\n",
       "      <td>0</td>\n",
       "      <td>0</td>\n",
       "      <td>0</td>\n",
       "      <td>0</td>\n",
       "      <td>0</td>\n",
       "      <td>0</td>\n",
       "      <td>0</td>\n",
       "      <td>0</td>\n",
       "      <td>0</td>\n",
       "      <td>1</td>\n",
       "      <td>0</td>\n",
       "      <td>0</td>\n",
       "      <td>1</td>\n",
       "    </tr>\n",
       "    <tr>\n",
       "      <th>3</th>\n",
       "      <td>1.000000</td>\n",
       "      <td>0</td>\n",
       "      <td>40.0</td>\n",
       "      <td>2.0</td>\n",
       "      <td>0</td>\n",
       "      <td>8333.000000</td>\n",
       "      <td>0</td>\n",
       "      <td>0</td>\n",
       "      <td>0</td>\n",
       "      <td>0</td>\n",
       "      <td>1</td>\n",
       "      <td>0</td>\n",
       "      <td>0</td>\n",
       "      <td>0</td>\n",
       "      <td>0</td>\n",
       "      <td>0</td>\n",
       "      <td>0</td>\n",
       "      <td>0</td>\n",
       "      <td>0</td>\n",
       "      <td>1</td>\n",
       "      <td>0</td>\n",
       "      <td>0</td>\n",
       "      <td>0</td>\n",
       "      <td>0</td>\n",
       "      <td>0</td>\n",
       "    </tr>\n",
       "    <tr>\n",
       "      <th>4</th>\n",
       "      <td>3.000000</td>\n",
       "      <td>0</td>\n",
       "      <td>40.0</td>\n",
       "      <td>2.0</td>\n",
       "      <td>1</td>\n",
       "      <td>7137.000000</td>\n",
       "      <td>0</td>\n",
       "      <td>0</td>\n",
       "      <td>0</td>\n",
       "      <td>0</td>\n",
       "      <td>0</td>\n",
       "      <td>0</td>\n",
       "      <td>1</td>\n",
       "      <td>0</td>\n",
       "      <td>0</td>\n",
       "      <td>0</td>\n",
       "      <td>0</td>\n",
       "      <td>0</td>\n",
       "      <td>0</td>\n",
       "      <td>0</td>\n",
       "      <td>0</td>\n",
       "      <td>1</td>\n",
       "      <td>0</td>\n",
       "      <td>0</td>\n",
       "      <td>1</td>\n",
       "    </tr>\n",
       "    <tr>\n",
       "      <th>...</th>\n",
       "      <td>...</td>\n",
       "      <td>...</td>\n",
       "      <td>...</td>\n",
       "      <td>...</td>\n",
       "      <td>...</td>\n",
       "      <td>...</td>\n",
       "      <td>...</td>\n",
       "      <td>...</td>\n",
       "      <td>...</td>\n",
       "      <td>...</td>\n",
       "      <td>...</td>\n",
       "      <td>...</td>\n",
       "      <td>...</td>\n",
       "      <td>...</td>\n",
       "      <td>...</td>\n",
       "      <td>...</td>\n",
       "      <td>...</td>\n",
       "      <td>...</td>\n",
       "      <td>...</td>\n",
       "      <td>...</td>\n",
       "      <td>...</td>\n",
       "      <td>...</td>\n",
       "      <td>...</td>\n",
       "      <td>...</td>\n",
       "      <td>...</td>\n",
       "    </tr>\n",
       "    <tr>\n",
       "      <th>4272</th>\n",
       "      <td>2.000000</td>\n",
       "      <td>1</td>\n",
       "      <td>40.0</td>\n",
       "      <td>0.0</td>\n",
       "      <td>0</td>\n",
       "      <td>4917.000000</td>\n",
       "      <td>0</td>\n",
       "      <td>0</td>\n",
       "      <td>0</td>\n",
       "      <td>0</td>\n",
       "      <td>0</td>\n",
       "      <td>0</td>\n",
       "      <td>1</td>\n",
       "      <td>0</td>\n",
       "      <td>0</td>\n",
       "      <td>0</td>\n",
       "      <td>0</td>\n",
       "      <td>0</td>\n",
       "      <td>0</td>\n",
       "      <td>1</td>\n",
       "      <td>0</td>\n",
       "      <td>0</td>\n",
       "      <td>0</td>\n",
       "      <td>0</td>\n",
       "      <td>0</td>\n",
       "    </tr>\n",
       "    <tr>\n",
       "      <th>4273</th>\n",
       "      <td>4.140793</td>\n",
       "      <td>1</td>\n",
       "      <td>40.0</td>\n",
       "      <td>0.0</td>\n",
       "      <td>0</td>\n",
       "      <td>7033.845701</td>\n",
       "      <td>0</td>\n",
       "      <td>0</td>\n",
       "      <td>0</td>\n",
       "      <td>0</td>\n",
       "      <td>1</td>\n",
       "      <td>0</td>\n",
       "      <td>0</td>\n",
       "      <td>0</td>\n",
       "      <td>0</td>\n",
       "      <td>0</td>\n",
       "      <td>0</td>\n",
       "      <td>0</td>\n",
       "      <td>0</td>\n",
       "      <td>1</td>\n",
       "      <td>0</td>\n",
       "      <td>0</td>\n",
       "      <td>0</td>\n",
       "      <td>0</td>\n",
       "      <td>0</td>\n",
       "    </tr>\n",
       "    <tr>\n",
       "      <th>4274</th>\n",
       "      <td>5.000000</td>\n",
       "      <td>0</td>\n",
       "      <td>40.0</td>\n",
       "      <td>0.0</td>\n",
       "      <td>0</td>\n",
       "      <td>7166.000000</td>\n",
       "      <td>0</td>\n",
       "      <td>0</td>\n",
       "      <td>0</td>\n",
       "      <td>0</td>\n",
       "      <td>0</td>\n",
       "      <td>0</td>\n",
       "      <td>1</td>\n",
       "      <td>0</td>\n",
       "      <td>0</td>\n",
       "      <td>0</td>\n",
       "      <td>0</td>\n",
       "      <td>0</td>\n",
       "      <td>0</td>\n",
       "      <td>1</td>\n",
       "      <td>0</td>\n",
       "      <td>0</td>\n",
       "      <td>0</td>\n",
       "      <td>0</td>\n",
       "      <td>0</td>\n",
       "    </tr>\n",
       "    <tr>\n",
       "      <th>4275</th>\n",
       "      <td>4.000000</td>\n",
       "      <td>1</td>\n",
       "      <td>40.0</td>\n",
       "      <td>2.0</td>\n",
       "      <td>0</td>\n",
       "      <td>9583.000000</td>\n",
       "      <td>0</td>\n",
       "      <td>0</td>\n",
       "      <td>0</td>\n",
       "      <td>0</td>\n",
       "      <td>1</td>\n",
       "      <td>0</td>\n",
       "      <td>0</td>\n",
       "      <td>0</td>\n",
       "      <td>0</td>\n",
       "      <td>0</td>\n",
       "      <td>0</td>\n",
       "      <td>0</td>\n",
       "      <td>0</td>\n",
       "      <td>1</td>\n",
       "      <td>0</td>\n",
       "      <td>0</td>\n",
       "      <td>0</td>\n",
       "      <td>0</td>\n",
       "      <td>1</td>\n",
       "    </tr>\n",
       "    <tr>\n",
       "      <th>4276</th>\n",
       "      <td>1.000000</td>\n",
       "      <td>0</td>\n",
       "      <td>40.0</td>\n",
       "      <td>5.0</td>\n",
       "      <td>1</td>\n",
       "      <td>9166.000000</td>\n",
       "      <td>0</td>\n",
       "      <td>0</td>\n",
       "      <td>0</td>\n",
       "      <td>0</td>\n",
       "      <td>1</td>\n",
       "      <td>0</td>\n",
       "      <td>0</td>\n",
       "      <td>0</td>\n",
       "      <td>0</td>\n",
       "      <td>0</td>\n",
       "      <td>0</td>\n",
       "      <td>0</td>\n",
       "      <td>0</td>\n",
       "      <td>0</td>\n",
       "      <td>0</td>\n",
       "      <td>1</td>\n",
       "      <td>0</td>\n",
       "      <td>0</td>\n",
       "      <td>0</td>\n",
       "    </tr>\n",
       "  </tbody>\n",
       "</table>\n",
       "<p>4261 rows × 25 columns</p>\n",
       "</div>"
      ],
      "text/plain": [
       "      job_years  is_manager  hours_per_week  telecommute_days_per_week  \\\n",
       "0      4.783930           1            40.0                        0.0   \n",
       "1      5.000000           0            40.0                        5.0   \n",
       "2      1.000000           0            40.0                        0.0   \n",
       "3      1.000000           0            40.0                        2.0   \n",
       "4      3.000000           0            40.0                        2.0   \n",
       "...         ...         ...             ...                        ...   \n",
       "4272   2.000000           1            40.0                        0.0   \n",
       "4273   4.140793           1            40.0                        0.0   \n",
       "4274   5.000000           0            40.0                        0.0   \n",
       "4275   4.000000           1            40.0                        2.0   \n",
       "4276   1.000000           0            40.0                        5.0   \n",
       "\n",
       "      certifications        salary  \\\n",
       "0                  0   7187.743094   \n",
       "1                  0  10000.000000   \n",
       "2                  1   7000.000000   \n",
       "3                  0   8333.000000   \n",
       "4                  1   7137.000000   \n",
       "...              ...           ...   \n",
       "4272               0   4917.000000   \n",
       "4273               0   7033.845701   \n",
       "4274               0   7166.000000   \n",
       "4275               0   9583.000000   \n",
       "4276               1   9166.000000   \n",
       "\n",
       "      employment_status_Independent or freelancer or company owner  \\\n",
       "0                                                     0              \n",
       "1                                                     0              \n",
       "2                                                     0              \n",
       "3                                                     0              \n",
       "4                                                     0              \n",
       "...                                                 ...              \n",
       "4272                                                  0              \n",
       "4273                                                  0              \n",
       "4274                                                  0              \n",
       "4275                                                  0              \n",
       "4276                                                  0              \n",
       "\n",
       "      employment_status_Part time  job_title_Analytics consultant  \\\n",
       "0                               0                               0   \n",
       "1                               0                               0   \n",
       "2                               0                               0   \n",
       "3                               0                               0   \n",
       "4                               0                               0   \n",
       "...                           ...                             ...   \n",
       "4272                            0                               0   \n",
       "4273                            0                               0   \n",
       "4274                            0                               0   \n",
       "4275                            0                               0   \n",
       "4276                            0                               0   \n",
       "\n",
       "      job_title_Architect  job_title_DBA  job_title_Data Scientist  \\\n",
       "0                       0              0                         0   \n",
       "1                       0              1                         0   \n",
       "2                       0              1                         0   \n",
       "3                       0              1                         0   \n",
       "4                       0              0                         0   \n",
       "...                   ...            ...                       ...   \n",
       "4272                    0              0                         0   \n",
       "4273                    0              1                         0   \n",
       "4274                    0              0                         0   \n",
       "4275                    0              1                         0   \n",
       "4276                    0              1                         0   \n",
       "\n",
       "      job_title_Developer  job_title_Engineer  job_title_Manager  \\\n",
       "0                       1                   0                  0   \n",
       "1                       0                   0                  0   \n",
       "2                       0                   0                  0   \n",
       "3                       0                   0                  0   \n",
       "4                       1                   0                  0   \n",
       "...                   ...                 ...                ...   \n",
       "4272                    1                   0                  0   \n",
       "4273                    0                   0                  0   \n",
       "4274                    1                   0                  0   \n",
       "4275                    0                   0                  0   \n",
       "4276                    0                   0                  0   \n",
       "\n",
       "      job_title_Other  job_title_Principal database engineer  job_title_Sales  \\\n",
       "0                   0                                      0                0   \n",
       "1                   0                                      0                0   \n",
       "2                   0                                      0                0   \n",
       "3                   0                                      0                0   \n",
       "4                   0                                      0                0   \n",
       "...               ...                                    ...              ...   \n",
       "4272                0                                      0                0   \n",
       "4273                0                                      0                0   \n",
       "4274                0                                      0                0   \n",
       "4275                0                                      0                0   \n",
       "4276                0                                      0                0   \n",
       "\n",
       "      job_title_Sr Consultant   education_Bachelors (4 years)  \\\n",
       "0                            0                              1   \n",
       "1                            0                              1   \n",
       "2                            0                              0   \n",
       "3                            0                              1   \n",
       "4                            0                              0   \n",
       "...                        ...                            ...   \n",
       "4272                         0                              1   \n",
       "4273                         0                              1   \n",
       "4274                         0                              1   \n",
       "4275                         0                              1   \n",
       "4276                         0                              0   \n",
       "\n",
       "      education_Doctorate/PhD  education_Masters  \\\n",
       "0                           0                  0   \n",
       "1                           0                  0   \n",
       "2                           0                  1   \n",
       "3                           0                  0   \n",
       "4                           0                  1   \n",
       "...                       ...                ...   \n",
       "4272                        0                  0   \n",
       "4273                        0                  0   \n",
       "4274                        0                  0   \n",
       "4275                        0                  0   \n",
       "4276                        0                  1   \n",
       "\n",
       "      education_None (no degree completed)  \\\n",
       "0                                        0   \n",
       "1                                        0   \n",
       "2                                        0   \n",
       "3                                        0   \n",
       "4                                        0   \n",
       "...                                    ...   \n",
       "4272                                     0   \n",
       "4273                                     0   \n",
       "4274                                     0   \n",
       "4275                                     0   \n",
       "4276                                     0   \n",
       "\n",
       "      is_education_computer_related_Unknown  is_education_computer_related_Yes  \n",
       "0                                         0                                  1  \n",
       "1                                         0                                  1  \n",
       "2                                         0                                  1  \n",
       "3                                         0                                  0  \n",
       "4                                         0                                  1  \n",
       "...                                     ...                                ...  \n",
       "4272                                      0                                  0  \n",
       "4273                                      0                                  0  \n",
       "4274                                      0                                  0  \n",
       "4275                                      0                                  1  \n",
       "4276                                      0                                  0  \n",
       "\n",
       "[4261 rows x 25 columns]"
      ]
     },
     "execution_count": 19,
     "metadata": {},
     "output_type": "execute_result"
    }
   ],
   "source": [
    "final_data"
   ]
  },
  {
   "cell_type": "markdown",
   "metadata": {
    "id": "q3oRuBW4gTJv"
   },
   "source": [
    "## Train Test Split"
   ]
  },
  {
   "cell_type": "code",
   "execution_count": 20,
   "metadata": {
    "colab": {
     "base_uri": "https://localhost:8080/"
    },
    "id": "P74hUqfxgNnh",
    "outputId": "a25a6f8c-560a-4658-9f71-45d0480695c9"
   },
   "outputs": [
    {
     "name": "stdout",
     "output_type": "stream",
     "text": [
      "Training Set Dimensions: (3408, 24)\n",
      "Validation Set Dimensions: (853, 24)\n"
     ]
    }
   ],
   "source": [
    "y = final_data['salary']\n",
    "X = final_data.drop(columns=['salary'])\n",
    "\n",
    "X_train, X_test, y_train, y_test = train_test_split(X, y, test_size=0.2)\n",
    "print(\"Training Set Dimensions:\", X_train.shape)\n",
    "print(\"Validation Set Dimensions:\", X_test.shape)"
   ]
  },
  {
   "cell_type": "markdown",
   "metadata": {
    "id": "p9rhnv44gb3z"
   },
   "source": [
    "## Pre-processing data"
   ]
  },
  {
   "cell_type": "markdown",
   "metadata": {
    "id": "gXiQUx0wWT5X"
   },
   "source": [
    "### Standardization (Z-score normalization):\n",
    "\n",
    "$$ x_{\\text{std}} = \\frac{x - \\mu}{\\sigma} $$\n",
    "\n",
    "- **Purpose:** Standardization transforms the data to have a mean of 0 and a standard deviation of 1.\n",
    "- **Properties:**\n",
    "  - Centers the data around 0.\n",
    "  - Rescales the data to have unit variance.\n",
    "  - Does not bound the data within a specific range.\n",
    "  - Preserves the shape of the distribution.\n",
    "- **Use Cases:**\n",
    "  - Algorithms that assume zero-centered data or require features to have a similar scale (e.g., gradient descent-based algorithms, support vector machines).\n",
    "  - When the distribution of the features is Gaussian-like.\n",
    "\n",
    "### Normalization (Min-Max scaling):\n",
    "\n",
    " $$ x_{\\text{norm}} = \\frac{x - \\min(x)}{\\max(x) - \\min(x)} $$\n",
    "\n",
    "- **Purpose:** Normalization scales the data to a fixed range, typically [0, 1] or [-1, 1].\n",
    "- **Properties:**\n",
    "  - Scales the data to a specified range.\n",
    "  - Shifts the data to start at 0.\n",
    "  - Does not affect the shape of the distribution.\n",
    "  - Preserves the relative relationships between data points.\n",
    "- **Use Cases:**\n",
    "  - Neural networks, especially those with activation functions sensitive to input magnitudes (e.g., sigmoid or tanh functions).\n",
    "  - When the distribution of the features is unknown or non-Gaussian.\n",
    "\n",
    "**Choosing Between Standardization and Normalization:**\n",
    "- Use standardization when the distribution of your features is approximately Gaussian-like and you want to center the data and rescale it to have unit variance.\n",
    "- Use normalization when the scale of your features is important, or when you need to bound the features within a specific range.\n",
    "- It's often beneficial to try both preprocessing techniques and evaluate their effects on model performance to determine which one works best for your specific dataset and model.\n"
   ]
  },
  {
   "cell_type": "code",
   "execution_count": 21,
   "metadata": {
    "colab": {
     "base_uri": "https://localhost:8080/"
    },
    "id": "Qu7qjbRJgXHu",
    "outputId": "6a0eadb2-3160-436c-8793-5fec7fa8c75d"
   },
   "outputs": [
    {
     "data": {
      "text/plain": [
       "['job_years', 'hours_per_week', 'telecommute_days_per_week']"
      ]
     },
     "execution_count": 21,
     "metadata": {},
     "output_type": "execute_result"
    }
   ],
   "source": [
    "# select numerical features\n",
    "num_cols = ['job_years','hours_per_week','telecommute_days_per_week']\n",
    "num_cols"
   ]
  },
  {
   "cell_type": "code",
   "execution_count": 22,
   "metadata": {
    "id": "S_bXGF1yge_M"
   },
   "outputs": [],
   "source": [
    "# Apply standard scaling on numeric data\n",
    "scaler = StandardScaler()\n",
    "scaler.fit(X_train[num_cols])\n",
    "X_train[num_cols] = scaler.transform(X_train[num_cols])"
   ]
  },
  {
   "cell_type": "code",
   "execution_count": 23,
   "metadata": {
    "colab": {
     "base_uri": "https://localhost:8080/",
     "height": 478
    },
    "id": "C1uh9nMAgkle",
    "outputId": "2ebf0ca4-8c9b-454f-a36b-4cd648e1d55f"
   },
   "outputs": [
    {
     "data": {
      "text/html": [
       "<div>\n",
       "<style scoped>\n",
       "    .dataframe tbody tr th:only-of-type {\n",
       "        vertical-align: middle;\n",
       "    }\n",
       "\n",
       "    .dataframe tbody tr th {\n",
       "        vertical-align: top;\n",
       "    }\n",
       "\n",
       "    .dataframe thead th {\n",
       "        text-align: right;\n",
       "    }\n",
       "</style>\n",
       "<table border=\"1\" class=\"dataframe\">\n",
       "  <thead>\n",
       "    <tr style=\"text-align: right;\">\n",
       "      <th></th>\n",
       "      <th>job_years</th>\n",
       "      <th>is_manager</th>\n",
       "      <th>hours_per_week</th>\n",
       "      <th>telecommute_days_per_week</th>\n",
       "      <th>certifications</th>\n",
       "      <th>employment_status_Independent or freelancer or company owner</th>\n",
       "      <th>employment_status_Part time</th>\n",
       "      <th>job_title_Analytics consultant</th>\n",
       "      <th>job_title_Architect</th>\n",
       "      <th>job_title_DBA</th>\n",
       "      <th>job_title_Data Scientist</th>\n",
       "      <th>job_title_Developer</th>\n",
       "      <th>job_title_Engineer</th>\n",
       "      <th>job_title_Manager</th>\n",
       "      <th>job_title_Other</th>\n",
       "      <th>job_title_Principal database engineer</th>\n",
       "      <th>job_title_Sales</th>\n",
       "      <th>job_title_Sr Consultant</th>\n",
       "      <th>education_Bachelors (4 years)</th>\n",
       "      <th>education_Doctorate/PhD</th>\n",
       "      <th>education_Masters</th>\n",
       "      <th>education_None (no degree completed)</th>\n",
       "      <th>is_education_computer_related_Unknown</th>\n",
       "      <th>is_education_computer_related_Yes</th>\n",
       "    </tr>\n",
       "  </thead>\n",
       "  <tbody>\n",
       "    <tr>\n",
       "      <th>3259</th>\n",
       "      <td>0.763113</td>\n",
       "      <td>0</td>\n",
       "      <td>-0.492323</td>\n",
       "      <td>-0.627363</td>\n",
       "      <td>0</td>\n",
       "      <td>0</td>\n",
       "      <td>0</td>\n",
       "      <td>0</td>\n",
       "      <td>0</td>\n",
       "      <td>0</td>\n",
       "      <td>0</td>\n",
       "      <td>1</td>\n",
       "      <td>0</td>\n",
       "      <td>0</td>\n",
       "      <td>0</td>\n",
       "      <td>0</td>\n",
       "      <td>0</td>\n",
       "      <td>0</td>\n",
       "      <td>1</td>\n",
       "      <td>0</td>\n",
       "      <td>0</td>\n",
       "      <td>0</td>\n",
       "      <td>0</td>\n",
       "      <td>0</td>\n",
       "    </tr>\n",
       "    <tr>\n",
       "      <th>1592</th>\n",
       "      <td>-0.613844</td>\n",
       "      <td>1</td>\n",
       "      <td>-0.085079</td>\n",
       "      <td>-0.627363</td>\n",
       "      <td>1</td>\n",
       "      <td>0</td>\n",
       "      <td>0</td>\n",
       "      <td>0</td>\n",
       "      <td>1</td>\n",
       "      <td>0</td>\n",
       "      <td>0</td>\n",
       "      <td>0</td>\n",
       "      <td>0</td>\n",
       "      <td>0</td>\n",
       "      <td>0</td>\n",
       "      <td>0</td>\n",
       "      <td>0</td>\n",
       "      <td>0</td>\n",
       "      <td>0</td>\n",
       "      <td>0</td>\n",
       "      <td>1</td>\n",
       "      <td>0</td>\n",
       "      <td>0</td>\n",
       "      <td>1</td>\n",
       "    </tr>\n",
       "    <tr>\n",
       "      <th>1006</th>\n",
       "      <td>-1.727836</td>\n",
       "      <td>0</td>\n",
       "      <td>-0.492323</td>\n",
       "      <td>-0.022539</td>\n",
       "      <td>1</td>\n",
       "      <td>0</td>\n",
       "      <td>0</td>\n",
       "      <td>0</td>\n",
       "      <td>0</td>\n",
       "      <td>0</td>\n",
       "      <td>0</td>\n",
       "      <td>0</td>\n",
       "      <td>0</td>\n",
       "      <td>0</td>\n",
       "      <td>0</td>\n",
       "      <td>0</td>\n",
       "      <td>0</td>\n",
       "      <td>0</td>\n",
       "      <td>1</td>\n",
       "      <td>0</td>\n",
       "      <td>0</td>\n",
       "      <td>0</td>\n",
       "      <td>0</td>\n",
       "      <td>1</td>\n",
       "    </tr>\n",
       "    <tr>\n",
       "      <th>1509</th>\n",
       "      <td>0.030884</td>\n",
       "      <td>1</td>\n",
       "      <td>0.859476</td>\n",
       "      <td>-0.627363</td>\n",
       "      <td>1</td>\n",
       "      <td>0</td>\n",
       "      <td>0</td>\n",
       "      <td>0</td>\n",
       "      <td>0</td>\n",
       "      <td>0</td>\n",
       "      <td>0</td>\n",
       "      <td>1</td>\n",
       "      <td>0</td>\n",
       "      <td>0</td>\n",
       "      <td>0</td>\n",
       "      <td>0</td>\n",
       "      <td>0</td>\n",
       "      <td>0</td>\n",
       "      <td>1</td>\n",
       "      <td>0</td>\n",
       "      <td>0</td>\n",
       "      <td>0</td>\n",
       "      <td>0</td>\n",
       "      <td>1</td>\n",
       "    </tr>\n",
       "    <tr>\n",
       "      <th>217</th>\n",
       "      <td>1.759493</td>\n",
       "      <td>0</td>\n",
       "      <td>2.359898</td>\n",
       "      <td>2.396756</td>\n",
       "      <td>1</td>\n",
       "      <td>0</td>\n",
       "      <td>0</td>\n",
       "      <td>0</td>\n",
       "      <td>0</td>\n",
       "      <td>1</td>\n",
       "      <td>0</td>\n",
       "      <td>0</td>\n",
       "      <td>0</td>\n",
       "      <td>0</td>\n",
       "      <td>0</td>\n",
       "      <td>0</td>\n",
       "      <td>0</td>\n",
       "      <td>0</td>\n",
       "      <td>1</td>\n",
       "      <td>0</td>\n",
       "      <td>0</td>\n",
       "      <td>0</td>\n",
       "      <td>0</td>\n",
       "      <td>1</td>\n",
       "    </tr>\n",
       "    <tr>\n",
       "      <th>...</th>\n",
       "      <td>...</td>\n",
       "      <td>...</td>\n",
       "      <td>...</td>\n",
       "      <td>...</td>\n",
       "      <td>...</td>\n",
       "      <td>...</td>\n",
       "      <td>...</td>\n",
       "      <td>...</td>\n",
       "      <td>...</td>\n",
       "      <td>...</td>\n",
       "      <td>...</td>\n",
       "      <td>...</td>\n",
       "      <td>...</td>\n",
       "      <td>...</td>\n",
       "      <td>...</td>\n",
       "      <td>...</td>\n",
       "      <td>...</td>\n",
       "      <td>...</td>\n",
       "      <td>...</td>\n",
       "      <td>...</td>\n",
       "      <td>...</td>\n",
       "      <td>...</td>\n",
       "      <td>...</td>\n",
       "      <td>...</td>\n",
       "    </tr>\n",
       "    <tr>\n",
       "      <th>2842</th>\n",
       "      <td>-1.229646</td>\n",
       "      <td>0</td>\n",
       "      <td>-0.492323</td>\n",
       "      <td>-0.627363</td>\n",
       "      <td>1</td>\n",
       "      <td>0</td>\n",
       "      <td>0</td>\n",
       "      <td>0</td>\n",
       "      <td>0</td>\n",
       "      <td>1</td>\n",
       "      <td>0</td>\n",
       "      <td>0</td>\n",
       "      <td>0</td>\n",
       "      <td>0</td>\n",
       "      <td>0</td>\n",
       "      <td>0</td>\n",
       "      <td>0</td>\n",
       "      <td>0</td>\n",
       "      <td>0</td>\n",
       "      <td>0</td>\n",
       "      <td>0</td>\n",
       "      <td>1</td>\n",
       "      <td>1</td>\n",
       "      <td>0</td>\n",
       "    </tr>\n",
       "    <tr>\n",
       "      <th>614</th>\n",
       "      <td>-2.226026</td>\n",
       "      <td>1</td>\n",
       "      <td>2.359898</td>\n",
       "      <td>2.396756</td>\n",
       "      <td>1</td>\n",
       "      <td>0</td>\n",
       "      <td>0</td>\n",
       "      <td>0</td>\n",
       "      <td>0</td>\n",
       "      <td>1</td>\n",
       "      <td>0</td>\n",
       "      <td>0</td>\n",
       "      <td>0</td>\n",
       "      <td>0</td>\n",
       "      <td>0</td>\n",
       "      <td>0</td>\n",
       "      <td>0</td>\n",
       "      <td>0</td>\n",
       "      <td>1</td>\n",
       "      <td>0</td>\n",
       "      <td>0</td>\n",
       "      <td>0</td>\n",
       "      <td>0</td>\n",
       "      <td>0</td>\n",
       "    </tr>\n",
       "    <tr>\n",
       "      <th>2400</th>\n",
       "      <td>-1.229646</td>\n",
       "      <td>0</td>\n",
       "      <td>1.789454</td>\n",
       "      <td>-0.627363</td>\n",
       "      <td>0</td>\n",
       "      <td>0</td>\n",
       "      <td>0</td>\n",
       "      <td>0</td>\n",
       "      <td>0</td>\n",
       "      <td>1</td>\n",
       "      <td>0</td>\n",
       "      <td>0</td>\n",
       "      <td>0</td>\n",
       "      <td>0</td>\n",
       "      <td>0</td>\n",
       "      <td>0</td>\n",
       "      <td>0</td>\n",
       "      <td>0</td>\n",
       "      <td>1</td>\n",
       "      <td>0</td>\n",
       "      <td>0</td>\n",
       "      <td>0</td>\n",
       "      <td>0</td>\n",
       "      <td>1</td>\n",
       "    </tr>\n",
       "    <tr>\n",
       "      <th>1856</th>\n",
       "      <td>-0.731456</td>\n",
       "      <td>0</td>\n",
       "      <td>-0.492323</td>\n",
       "      <td>-0.627363</td>\n",
       "      <td>0</td>\n",
       "      <td>0</td>\n",
       "      <td>0</td>\n",
       "      <td>0</td>\n",
       "      <td>0</td>\n",
       "      <td>0</td>\n",
       "      <td>0</td>\n",
       "      <td>1</td>\n",
       "      <td>0</td>\n",
       "      <td>0</td>\n",
       "      <td>0</td>\n",
       "      <td>0</td>\n",
       "      <td>0</td>\n",
       "      <td>0</td>\n",
       "      <td>1</td>\n",
       "      <td>0</td>\n",
       "      <td>0</td>\n",
       "      <td>0</td>\n",
       "      <td>0</td>\n",
       "      <td>1</td>\n",
       "    </tr>\n",
       "    <tr>\n",
       "      <th>1151</th>\n",
       "      <td>2.755872</td>\n",
       "      <td>0</td>\n",
       "      <td>2.359898</td>\n",
       "      <td>-0.627363</td>\n",
       "      <td>0</td>\n",
       "      <td>0</td>\n",
       "      <td>0</td>\n",
       "      <td>0</td>\n",
       "      <td>0</td>\n",
       "      <td>0</td>\n",
       "      <td>0</td>\n",
       "      <td>1</td>\n",
       "      <td>0</td>\n",
       "      <td>0</td>\n",
       "      <td>0</td>\n",
       "      <td>0</td>\n",
       "      <td>0</td>\n",
       "      <td>0</td>\n",
       "      <td>1</td>\n",
       "      <td>0</td>\n",
       "      <td>0</td>\n",
       "      <td>0</td>\n",
       "      <td>0</td>\n",
       "      <td>1</td>\n",
       "    </tr>\n",
       "  </tbody>\n",
       "</table>\n",
       "<p>3408 rows × 24 columns</p>\n",
       "</div>"
      ],
      "text/plain": [
       "      job_years  is_manager  hours_per_week  telecommute_days_per_week  \\\n",
       "3259   0.763113           0       -0.492323                  -0.627363   \n",
       "1592  -0.613844           1       -0.085079                  -0.627363   \n",
       "1006  -1.727836           0       -0.492323                  -0.022539   \n",
       "1509   0.030884           1        0.859476                  -0.627363   \n",
       "217    1.759493           0        2.359898                   2.396756   \n",
       "...         ...         ...             ...                        ...   \n",
       "2842  -1.229646           0       -0.492323                  -0.627363   \n",
       "614   -2.226026           1        2.359898                   2.396756   \n",
       "2400  -1.229646           0        1.789454                  -0.627363   \n",
       "1856  -0.731456           0       -0.492323                  -0.627363   \n",
       "1151   2.755872           0        2.359898                  -0.627363   \n",
       "\n",
       "      certifications  \\\n",
       "3259               0   \n",
       "1592               1   \n",
       "1006               1   \n",
       "1509               1   \n",
       "217                1   \n",
       "...              ...   \n",
       "2842               1   \n",
       "614                1   \n",
       "2400               0   \n",
       "1856               0   \n",
       "1151               0   \n",
       "\n",
       "      employment_status_Independent or freelancer or company owner  \\\n",
       "3259                                                  0              \n",
       "1592                                                  0              \n",
       "1006                                                  0              \n",
       "1509                                                  0              \n",
       "217                                                   0              \n",
       "...                                                 ...              \n",
       "2842                                                  0              \n",
       "614                                                   0              \n",
       "2400                                                  0              \n",
       "1856                                                  0              \n",
       "1151                                                  0              \n",
       "\n",
       "      employment_status_Part time  job_title_Analytics consultant  \\\n",
       "3259                            0                               0   \n",
       "1592                            0                               0   \n",
       "1006                            0                               0   \n",
       "1509                            0                               0   \n",
       "217                             0                               0   \n",
       "...                           ...                             ...   \n",
       "2842                            0                               0   \n",
       "614                             0                               0   \n",
       "2400                            0                               0   \n",
       "1856                            0                               0   \n",
       "1151                            0                               0   \n",
       "\n",
       "      job_title_Architect  job_title_DBA  job_title_Data Scientist  \\\n",
       "3259                    0              0                         0   \n",
       "1592                    1              0                         0   \n",
       "1006                    0              0                         0   \n",
       "1509                    0              0                         0   \n",
       "217                     0              1                         0   \n",
       "...                   ...            ...                       ...   \n",
       "2842                    0              1                         0   \n",
       "614                     0              1                         0   \n",
       "2400                    0              1                         0   \n",
       "1856                    0              0                         0   \n",
       "1151                    0              0                         0   \n",
       "\n",
       "      job_title_Developer  job_title_Engineer  job_title_Manager  \\\n",
       "3259                    1                   0                  0   \n",
       "1592                    0                   0                  0   \n",
       "1006                    0                   0                  0   \n",
       "1509                    1                   0                  0   \n",
       "217                     0                   0                  0   \n",
       "...                   ...                 ...                ...   \n",
       "2842                    0                   0                  0   \n",
       "614                     0                   0                  0   \n",
       "2400                    0                   0                  0   \n",
       "1856                    1                   0                  0   \n",
       "1151                    1                   0                  0   \n",
       "\n",
       "      job_title_Other  job_title_Principal database engineer  job_title_Sales  \\\n",
       "3259                0                                      0                0   \n",
       "1592                0                                      0                0   \n",
       "1006                0                                      0                0   \n",
       "1509                0                                      0                0   \n",
       "217                 0                                      0                0   \n",
       "...               ...                                    ...              ...   \n",
       "2842                0                                      0                0   \n",
       "614                 0                                      0                0   \n",
       "2400                0                                      0                0   \n",
       "1856                0                                      0                0   \n",
       "1151                0                                      0                0   \n",
       "\n",
       "      job_title_Sr Consultant   education_Bachelors (4 years)  \\\n",
       "3259                         0                              1   \n",
       "1592                         0                              0   \n",
       "1006                         0                              1   \n",
       "1509                         0                              1   \n",
       "217                          0                              1   \n",
       "...                        ...                            ...   \n",
       "2842                         0                              0   \n",
       "614                          0                              1   \n",
       "2400                         0                              1   \n",
       "1856                         0                              1   \n",
       "1151                         0                              1   \n",
       "\n",
       "      education_Doctorate/PhD  education_Masters  \\\n",
       "3259                        0                  0   \n",
       "1592                        0                  1   \n",
       "1006                        0                  0   \n",
       "1509                        0                  0   \n",
       "217                         0                  0   \n",
       "...                       ...                ...   \n",
       "2842                        0                  0   \n",
       "614                         0                  0   \n",
       "2400                        0                  0   \n",
       "1856                        0                  0   \n",
       "1151                        0                  0   \n",
       "\n",
       "      education_None (no degree completed)  \\\n",
       "3259                                     0   \n",
       "1592                                     0   \n",
       "1006                                     0   \n",
       "1509                                     0   \n",
       "217                                      0   \n",
       "...                                    ...   \n",
       "2842                                     1   \n",
       "614                                      0   \n",
       "2400                                     0   \n",
       "1856                                     0   \n",
       "1151                                     0   \n",
       "\n",
       "      is_education_computer_related_Unknown  is_education_computer_related_Yes  \n",
       "3259                                      0                                  0  \n",
       "1592                                      0                                  1  \n",
       "1006                                      0                                  1  \n",
       "1509                                      0                                  1  \n",
       "217                                       0                                  1  \n",
       "...                                     ...                                ...  \n",
       "2842                                      1                                  0  \n",
       "614                                       0                                  0  \n",
       "2400                                      0                                  1  \n",
       "1856                                      0                                  1  \n",
       "1151                                      0                                  1  \n",
       "\n",
       "[3408 rows x 24 columns]"
      ]
     },
     "execution_count": 23,
     "metadata": {},
     "output_type": "execute_result"
    }
   ],
   "source": [
    "X_train"
   ]
  },
  {
   "cell_type": "code",
   "execution_count": 24,
   "metadata": {
    "colab": {
     "base_uri": "https://localhost:8080/",
     "height": 75
    },
    "id": "v3INZbxvgnDL",
    "outputId": "53e2443b-e4f8-4e5f-ec9f-3a3bb676a87d"
   },
   "outputs": [
    {
     "data": {
      "text/html": [
       "<style>#sk-container-id-1 {color: black;}#sk-container-id-1 pre{padding: 0;}#sk-container-id-1 div.sk-toggleable {background-color: white;}#sk-container-id-1 label.sk-toggleable__label {cursor: pointer;display: block;width: 100%;margin-bottom: 0;padding: 0.3em;box-sizing: border-box;text-align: center;}#sk-container-id-1 label.sk-toggleable__label-arrow:before {content: \"▸\";float: left;margin-right: 0.25em;color: #696969;}#sk-container-id-1 label.sk-toggleable__label-arrow:hover:before {color: black;}#sk-container-id-1 div.sk-estimator:hover label.sk-toggleable__label-arrow:before {color: black;}#sk-container-id-1 div.sk-toggleable__content {max-height: 0;max-width: 0;overflow: hidden;text-align: left;background-color: #f0f8ff;}#sk-container-id-1 div.sk-toggleable__content pre {margin: 0.2em;color: black;border-radius: 0.25em;background-color: #f0f8ff;}#sk-container-id-1 input.sk-toggleable__control:checked~div.sk-toggleable__content {max-height: 200px;max-width: 100%;overflow: auto;}#sk-container-id-1 input.sk-toggleable__control:checked~label.sk-toggleable__label-arrow:before {content: \"▾\";}#sk-container-id-1 div.sk-estimator input.sk-toggleable__control:checked~label.sk-toggleable__label {background-color: #d4ebff;}#sk-container-id-1 div.sk-label input.sk-toggleable__control:checked~label.sk-toggleable__label {background-color: #d4ebff;}#sk-container-id-1 input.sk-hidden--visually {border: 0;clip: rect(1px 1px 1px 1px);clip: rect(1px, 1px, 1px, 1px);height: 1px;margin: -1px;overflow: hidden;padding: 0;position: absolute;width: 1px;}#sk-container-id-1 div.sk-estimator {font-family: monospace;background-color: #f0f8ff;border: 1px dotted black;border-radius: 0.25em;box-sizing: border-box;margin-bottom: 0.5em;}#sk-container-id-1 div.sk-estimator:hover {background-color: #d4ebff;}#sk-container-id-1 div.sk-parallel-item::after {content: \"\";width: 100%;border-bottom: 1px solid gray;flex-grow: 1;}#sk-container-id-1 div.sk-label:hover label.sk-toggleable__label {background-color: #d4ebff;}#sk-container-id-1 div.sk-serial::before {content: \"\";position: absolute;border-left: 1px solid gray;box-sizing: border-box;top: 0;bottom: 0;left: 50%;z-index: 0;}#sk-container-id-1 div.sk-serial {display: flex;flex-direction: column;align-items: center;background-color: white;padding-right: 0.2em;padding-left: 0.2em;position: relative;}#sk-container-id-1 div.sk-item {position: relative;z-index: 1;}#sk-container-id-1 div.sk-parallel {display: flex;align-items: stretch;justify-content: center;background-color: white;position: relative;}#sk-container-id-1 div.sk-item::before, #sk-container-id-1 div.sk-parallel-item::before {content: \"\";position: absolute;border-left: 1px solid gray;box-sizing: border-box;top: 0;bottom: 0;left: 50%;z-index: -1;}#sk-container-id-1 div.sk-parallel-item {display: flex;flex-direction: column;z-index: 1;position: relative;background-color: white;}#sk-container-id-1 div.sk-parallel-item:first-child::after {align-self: flex-end;width: 50%;}#sk-container-id-1 div.sk-parallel-item:last-child::after {align-self: flex-start;width: 50%;}#sk-container-id-1 div.sk-parallel-item:only-child::after {width: 0;}#sk-container-id-1 div.sk-dashed-wrapped {border: 1px dashed gray;margin: 0 0.4em 0.5em 0.4em;box-sizing: border-box;padding-bottom: 0.4em;background-color: white;}#sk-container-id-1 div.sk-label label {font-family: monospace;font-weight: bold;display: inline-block;line-height: 1.2em;}#sk-container-id-1 div.sk-label-container {text-align: center;}#sk-container-id-1 div.sk-container {/* jupyter's `normalize.less` sets `[hidden] { display: none; }` but bootstrap.min.css set `[hidden] { display: none !important; }` so we also need the `!important` here to be able to override the default hidden behavior on the sphinx rendered scikit-learn.org. See: https://github.com/scikit-learn/scikit-learn/issues/21755 */display: inline-block !important;position: relative;}#sk-container-id-1 div.sk-text-repr-fallback {display: none;}</style><div id=\"sk-container-id-1\" class=\"sk-top-container\"><div class=\"sk-text-repr-fallback\"><pre>LinearRegression()</pre><b>In a Jupyter environment, please rerun this cell to show the HTML representation or trust the notebook. <br />On GitHub, the HTML representation is unable to render, please try loading this page with nbviewer.org.</b></div><div class=\"sk-container\" hidden><div class=\"sk-item\"><div class=\"sk-estimator sk-toggleable\"><input class=\"sk-toggleable__control sk-hidden--visually\" id=\"sk-estimator-id-1\" type=\"checkbox\" checked><label for=\"sk-estimator-id-1\" class=\"sk-toggleable__label sk-toggleable__label-arrow\">LinearRegression</label><div class=\"sk-toggleable__content\"><pre>LinearRegression()</pre></div></div></div></div></div>"
      ],
      "text/plain": [
       "LinearRegression()"
      ]
     },
     "execution_count": 24,
     "metadata": {},
     "output_type": "execute_result"
    }
   ],
   "source": [
    "#Fitting a Linear Regression Model\n",
    "reg=LinearRegression()\n",
    "reg.fit(X_train, y_train)"
   ]
  },
  {
   "cell_type": "code",
   "execution_count": 25,
   "metadata": {
    "colab": {
     "base_uri": "https://localhost:8080/"
    },
    "id": "QEbjQJYth32q",
    "outputId": "af47e35c-ae28-4a85-d42d-91866f462e1b"
   },
   "outputs": [
    {
     "data": {
      "text/plain": [
       "array([ 1.80174884e+02,  8.44816623e+01,  1.96064210e+02,  2.33192251e+02,\n",
       "        4.70825226e+01, -5.49374432e+01,  1.92184487e+02, -1.02318154e-12,\n",
       "        1.09419648e+03,  8.39958557e+02,  7.30224892e+02,  5.21018370e+02,\n",
       "        9.71381952e+02,  8.02901911e+02,  9.21067234e+01,  9.47398521e+02,\n",
       "        7.04776053e+02,  3.54233916e+03,  3.95474035e+02, -5.33685802e+01,\n",
       "        2.65089569e+02,  2.49775466e+02, -3.25001221e+02, -1.48664783e+02])"
      ]
     },
     "execution_count": 25,
     "metadata": {},
     "output_type": "execute_result"
    }
   ],
   "source": [
    "reg.coef_"
   ]
  },
  {
   "cell_type": "code",
   "execution_count": 26,
   "metadata": {
    "colab": {
     "base_uri": "https://localhost:8080/"
    },
    "id": "b6jT9Vhxh675",
    "outputId": "f9ea6cab-4b55-4ed1-f462-cb12735513f0"
   },
   "outputs": [
    {
     "data": {
      "text/plain": [
       "6119.800096511164"
      ]
     },
     "execution_count": 26,
     "metadata": {},
     "output_type": "execute_result"
    }
   ],
   "source": [
    "reg.intercept_"
   ]
  },
  {
   "cell_type": "markdown",
   "metadata": {
    "id": "s9aEdX3yiFxP"
   },
   "source": [
    "Just to recall\n",
    "\n",
    "$\\hat{y} = \\alpha + \\beta_1 * X_1 + \\beta_2 * X_2 +...$\n",
    "\n",
    "Our Final model is given by -\n",
    "\n",
    "$\\hat{y} = 6145.79 + 1.887 * X_1 + 7.22 * X_2 +...$\n"
   ]
  },
  {
   "cell_type": "code",
   "execution_count": 27,
   "metadata": {
    "colab": {
     "base_uri": "https://localhost:8080/"
    },
    "id": "-RtdTxfXh_DD",
    "outputId": "f1a8de4a-d2b5-4d69-d611-e75ad0ea25a7"
   },
   "outputs": [
    {
     "data": {
      "text/plain": [
       "213.31195852291532"
      ]
     },
     "execution_count": 27,
     "metadata": {},
     "output_type": "execute_result"
    }
   ],
   "source": [
    "# Normalized MSE (Dividing by mean)\n",
    "mean_squared_error(y_train,reg.predict(X_train))/np.mean(y_train)"
   ]
  },
  {
   "cell_type": "code",
   "execution_count": 28,
   "metadata": {
    "id": "XmrtuGyLiLXu"
   },
   "outputs": [],
   "source": [
    "# Predict on the test data\n",
    "y_pred = reg.predict(X_test)"
   ]
  },
  {
   "cell_type": "code",
   "execution_count": 29,
   "metadata": {
    "colab": {
     "base_uri": "https://localhost:8080/"
    },
    "id": "hE8AuSIhm3Ys",
    "outputId": "2bc1fe5a-f9b8-4ea0-e0b6-5de50cca9a4d"
   },
   "outputs": [
    {
     "name": "stdout",
     "output_type": "stream",
     "text": [
      "Mean Squared Error: 11923.327820848846\n"
     ]
    }
   ],
   "source": [
    "#Evaluate the model on test data\n",
    "mse = mean_squared_error(y_pred, y_test)/np.mean(y_test)\n",
    "print(\"Mean Squared Error:\", mse)"
   ]
  },
  {
   "cell_type": "markdown",
   "metadata": {
    "id": "N9431Yjlfohd"
   },
   "source": [
    "*A lower MSE indicates that the model's predictions are closer to the actual values on average, while a higher MSE suggests larger errors between predictions and actual values.\n",
    "❗Pre-processing on Test data not done."
   ]
  },
  {
   "cell_type": "markdown",
   "metadata": {
    "id": "Qw0hpz3_jWUF"
   },
   "source": []
  },
  {
   "cell_type": "code",
   "execution_count": 30,
   "metadata": {
    "id": "v0yAiqA5m_Jf"
   },
   "outputs": [],
   "source": [
    "#Q1. Preprocess Test data and get predictions"
   ]
  },
  {
   "cell_type": "code",
   "execution_count": 31,
   "metadata": {},
   "outputs": [
    {
     "name": "stdout",
     "output_type": "stream",
     "text": [
      "Mean Squared Error: 192.81044863386032\n"
     ]
    }
   ],
   "source": [
    "X_test[num_cols] = scaler.transform(X_test[num_cols])\n",
    "\n",
    "y_pred = reg.predict(X_test)\n",
    "\n",
    "mse = mean_squared_error(y_pred, y_test)/np.mean(y_test)\n",
    "print(\"Mean Squared Error:\", mse)"
   ]
  }
 ],
 "metadata": {
  "colab": {
   "provenance": []
  },
  "kernelspec": {
   "display_name": "Python 3 (ipykernel)",
   "language": "python",
   "name": "python3"
  },
  "language_info": {
   "codemirror_mode": {
    "name": "ipython",
    "version": 3
   },
   "file_extension": ".py",
   "mimetype": "text/x-python",
   "name": "python",
   "nbconvert_exporter": "python",
   "pygments_lexer": "ipython3",
   "version": "3.9.7"
  }
 },
 "nbformat": 4,
 "nbformat_minor": 4
}
